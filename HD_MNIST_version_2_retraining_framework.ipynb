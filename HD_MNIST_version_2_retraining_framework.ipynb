{
 "cells": [
  {
   "cell_type": "code",
   "execution_count": 1,
   "metadata": {},
   "outputs": [],
   "source": [
    "import numpy as np\n",
    "from mnist import MNIST\n",
    "from sklearn.model_selection import train_test_split\n",
    "from sklearn.metrics.pairwise import cosine_similarity\n",
    "from sklearn.metrics import accuracy_score\n",
    "from PIL import Image\n",
    "from matplotlib import pyplot as plt\n",
    "import copy\n",
    "import pandas as pd"
   ]
  },
  {
   "cell_type": "code",
   "execution_count": 2,
   "metadata": {},
   "outputs": [],
   "source": [
    "def shuffle(X, y):\n",
    "    permutation = np.arange(X.shape[0])\n",
    "    np.random.shuffle(permutation)\n",
    "    return X[permutation], y[permutation]\n",
    "\n",
    "def load_dataset():\n",
    "    mndata = MNIST('./data/')\n",
    "    X_train, labels_train = map(np.array, mndata.load_training())\n",
    "    X_test, labels_test = map(np.array, mndata.load_testing())\n",
    "    return X_train, labels_train, X_test, labels_test\n",
    "\n",
    "def get_scene(img, proj):\n",
    "    return np.dot(img, proj.T)\n",
    "\n",
    "# Transform the image vectors into the hypervectors\n",
    "def get_scenes(images, proj):\n",
    "    return np.dot(images[:NUM_SAMPLES, :], proj.T)\n",
    "\n",
    "def classify(images, digit_vectors):\n",
    "    similarities = cosine_similarity(images, digit_vectors)\n",
    "    classifications = np.argmax(similarities, axis=1)\n",
    "    return classifications"
   ]
  },
  {
   "cell_type": "code",
   "execution_count": 3,
   "metadata": {},
   "outputs": [],
   "source": [
    "X_train, labels_train, _, _ = load_dataset()\n",
    "# X_train, labels_train = shuffle(X_train, labels_train)\n",
    "X_train, X_test, y_train, y_test = train_test_split(X_train, labels_train, test_size=0.33, random_state=42)"
   ]
  },
  {
   "cell_type": "code",
   "execution_count": 4,
   "metadata": {},
   "outputs": [],
   "source": [
    "D = 10000 # dimensions in random space\n",
    "IMG_LEN = 28\n",
    "NUM_SAMPLES = X_train.shape[0]"
   ]
  },
  {
   "cell_type": "code",
   "execution_count": null,
   "metadata": {},
   "outputs": [],
   "source": [
    "def HD_classifiers(seed, encoding=\"float\"):\n",
    "    # print(\"Generating random projection...\")\n",
    "    # proj = np.random.rand(D, IMG_LEN * IMG_LEN)\n",
    "    print(\"Seed: \", seed)\n",
    "    print(\"Encoding: \", encoding)\n",
    "    print(\"Generating random projection...\")\n",
    "    np.random.seed(seed)\n",
    "    proj = np.random.rand(D, IMG_LEN * IMG_LEN)\n",
    "    if encoding == \"bipolar\":\n",
    "        proj[proj==0] = -1\n",
    "    print(proj.shape)\n",
    "    print(\"Projecting images to higher dim space...\")\n",
    "    X_train_copy = get_scenes(X_train, proj)\n",
    "    \n",
    "    digit_vectors = np.zeros((10, D))\n",
    "    print(\"Dimension of digit vector: \", digit_vectors.shape)\n",
    "    \n",
    "    for i in range(NUM_SAMPLES):\n",
    "        digit_vectors[y_train[i]] += X_train_copy[i]\n",
    "    digit_vectors = np.array(digit_vectors)\n",
    "    \n",
    "    if encoding == \"bipolar\":\n",
    "        digit_vectors[digit_vectors > 0] = 1\n",
    "        digit_vectors[digit_vectors <= 0] = -1\n",
    "    \n",
    "    predictions = classify(X_train_copy, digit_vectors)\n",
    "    acc = accuracy_score(y_train[:X_train_copy.shape[0]], predictions)\n",
    "    print(\"Train accuracy: \", acc)\n",
    "    \n",
    "    X_test_copy = get_scenes(X_test, proj)\n",
    "    predictions = classify(X_test_copy, digit_vectors)\n",
    "    acc = accuracy_score(y_test[:X_test_copy.shape[0]], predictions)\n",
    "    print(\"Test accuracy: \", acc)\n",
    "        \n",
    "    return digit_vectors, proj, X_train_copy, X_test_copy"
   ]
  },
  {
   "cell_type": "code",
   "execution_count": null,
   "metadata": {},
   "outputs": [],
   "source": [
    "digit_vector, proj, _, _ = HD_classifiers(40)"
   ]
  },
  {
   "cell_type": "code",
   "execution_count": null,
   "metadata": {},
   "outputs": [],
   "source": [
    "def retraining(seeds, epochs, retrain_on='train', method=\"direct\"):\n",
    "    models = []\n",
    "    projs = []\n",
    "    X_train_projs = []\n",
    "    X_test_projs = []\n",
    "    for i in range(len(seeds)):\n",
    "        digit_vector, proj, X_train_copy, X_test_copy = HD_classifiers(seeds[i])\n",
    "        models.append(digit_vector)\n",
    "        projs.append(proj)\n",
    "        X_train_projs.append(X_train_copy)\n",
    "        X_test_projs.append(X_test_copy)\n",
    "        \n",
    "    for epoch in range(epochs):\n",
    "        print(\"Retraining Started: \")\n",
    "        print(f\"Epoch {epoch+1}\")\n",
    "        results_test = []\n",
    "        results_train = []\n",
    "        for i in range(len(seeds)):\n",
    "            predictions_train = classify(X_train_projs[i], models[i])\n",
    "            predictions_test = classify(X_test_projs[i], models[i])\n",
    "            results_train.append(predictions_train)\n",
    "            results_test.append(predictions_test)\n",
    "        \n",
    "        results_train_dict = {}\n",
    "        results_test_dict = {}\n",
    "        model_names = []\n",
    "        for i in range(len(seeds)):\n",
    "            model_names.append(f\"model_{seeds[i]}\")\n",
    "            results_train_dict[f\"model_{seeds[i]}\"] = list(results_train[i])\n",
    "            results_test_dict[f\"model_{seeds[i]}\"] = list(results_test[i])\n",
    "        \n",
    "        df_train = pd.DataFrame(results_train_dict)\n",
    "        df_train[\"y\"] = y_train\n",
    "        df_test = pd.DataFrame(results_test_dict)\n",
    "        df_test[\"y\"] = y_test\n",
    "        \n",
    "        if retrain_on.lower() == \"train\":\n",
    "            for i in range(len(model_names)):\n",
    "                mask = (df_train[model_names[i]] != df_train[model_names[i+1]])\n",
    "                for j in range(i+2, len(model_names)):\n",
    "                    mask = mask + (df_train[model_names[i]] != df_train[model_names[j]])\n",
    "                break\n",
    "            df_discrepencies_train = df_train[mask]\n",
    "            df_discrepencies_train.reset_index(inplace=True)\n",
    "            \n",
    "            if method == \"direct\":\n",
    "                print(\"Retraining on training set...\")\n",
    "                for epoch in range(epochs):\n",
    "                    for row in df_discrepencies_train.iterrows():\n",
    "                        idx = row[1][\"index\"]\n",
    "                        for i in range(len(model_names)):\n",
    "                            y_false = row[1][model_names[i]]\n",
    "                            y_true = row[1][\"y\"]\n",
    "                            hv = get_scene(X_train[idx].reshape((1, -1)), projs[i])\n",
    "                            models[i][y_false] -= hv[0]\n",
    "                            models[i][y_true] += hv[0]\n",
    "                    \n",
    "                    print(f\"Epoch {epoch+1}\")\n",
    "                for i in range(len(seeds)):\n",
    "                    predictions = classify(X_train_projs[i], models[i])\n",
    "                    acc = accuracy_score(y_train[:X_train_projs[i].shape[0]], predictions)\n",
    "                    print(model_names[i] + \": \" + str(acc))\n",
    "                print(\"Retraining Stopped...\")\n",
    "                return models\n",
    "        if retrain_on.lower() == \"test\":\n",
    "            for i in range(len(model_names)):\n",
    "                mask = (df_test[model_names[i]] != df_test[model_names[i+1]])\n",
    "                for j in range(i+2, len(model_names)):\n",
    "                    mask = mask + (df_test[model_names[i]] != df_test[model_names[j]])\n",
    "            df_discrepencies_test = df_train[mask]\n",
    "            \n",
    "        if retrain_on.lower() == 'both':\n",
    "            for i in range(len(model_names)):\n",
    "                mask_test = (df_test[model_names[i]] != df_test[model_names[i+1]])\n",
    "                mask_train = (df_train[model_names[i]] != df_train[model_names[i+1]])\n",
    "                for j in range(i+2, len(model_names)):\n",
    "                    mask_test = mask_test + (df_test[model_names[i]] != df_test[model_names[j]])\n",
    "                    mask_train = mask_train + (df_train[model_names[i]] != df_train[model_names[j]])\n",
    "            df_discrepencies_test = df_train[mask_test]\n",
    "            df_discrepencies_train = df_train[mask_train]"
   ]
  },
  {
   "cell_type": "code",
   "execution_count": null,
   "metadata": {
    "scrolled": true
   },
   "outputs": [
    {
     "name": "stdout",
     "output_type": "stream",
     "text": [
      "Seed:  30\n",
      "Encoding:  float\n",
      "Generating random projection...\n",
      "(10000, 784)\n",
      "Projecting images to higher dim space...\n",
      "Dimension of digit vector:  (10, 10000)\n",
      "Train accuracy:  0.8133084577114428\n",
      "Test accuracy:  0.8077777777777778\n",
      "Seed:  40\n",
      "Encoding:  float\n",
      "Generating random projection...\n",
      "(10000, 784)\n",
      "Projecting images to higher dim space...\n",
      "Dimension of digit vector:  (10, 10000)\n",
      "Train accuracy:  0.8139800995024875\n",
      "Test accuracy:  0.8082323232323232\n",
      "Seed:  50\n",
      "Encoding:  float\n",
      "Generating random projection...\n",
      "(10000, 784)\n",
      "Projecting images to higher dim space...\n",
      "Dimension of digit vector:  (10, 10000)\n",
      "Train accuracy:  0.8131094527363184\n",
      "Test accuracy:  0.8085858585858586\n",
      "Retraining Started: \n",
      "Epoch 1\n"
     ]
    },
    {
     "name": "stderr",
     "output_type": "stream",
     "text": [
      "C:\\ProgramData\\Anaconda3\\lib\\site-packages\\pandas\\core\\computation\\expressions.py:183: UserWarning: evaluating in Python space because the '+' operator is not supported by numexpr for the bool dtype, use '|' instead\n",
      "  .format(op=op_str, alt_op=unsupported[op_str]))\n"
     ]
    },
    {
     "name": "stdout",
     "output_type": "stream",
     "text": [
      "Retraining on training set...\n",
      "Epoch 1\n",
      "Epoch 2\n",
      "Epoch 3\n",
      "Epoch 4\n",
      "Epoch 5\n",
      "Epoch 6\n",
      "Epoch 7\n",
      "Epoch 8\n",
      "Epoch 9\n"
     ]
    }
   ],
   "source": [
    "models = retraining([30, 40, 50], 10)"
   ]
  },
  {
   "cell_type": "code",
   "execution_count": null,
   "metadata": {},
   "outputs": [],
   "source": []
  }
 ],
 "metadata": {
  "kernelspec": {
   "display_name": "Python 3",
   "language": "python",
   "name": "python3"
  },
  "language_info": {
   "codemirror_mode": {
    "name": "ipython",
    "version": 3
   },
   "file_extension": ".py",
   "mimetype": "text/x-python",
   "name": "python",
   "nbconvert_exporter": "python",
   "pygments_lexer": "ipython3",
   "version": "3.7.3"
  }
 },
 "nbformat": 4,
 "nbformat_minor": 2
}

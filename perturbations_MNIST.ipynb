{
 "cells": [
  {
   "cell_type": "code",
   "execution_count": 1,
   "metadata": {},
   "outputs": [],
   "source": [
    "from scipy.ndimage.interpolation import map_coordinates\n",
    "from scipy.ndimage import interpolation\n",
    "from scipy.ndimage.filters import gaussian_filter\n",
    "from PIL import Image, ImageEnhance\n",
    "from mpl_toolkits.axes_grid1 import AxesGrid\n",
    "from mnist import MNIST\n",
    "\n",
    "import numpy as np\n",
    "import matplotlib.pyplot as plt\n",
    "import scipy as sp\n",
    "import math"
   ]
  },
  {
   "cell_type": "code",
   "execution_count": 2,
   "metadata": {},
   "outputs": [],
   "source": [
    "def skew(image, loc=12, scale=1):\n",
    "    image = image.reshape(28, 28)\n",
    "    h, l = image.shape\n",
    "    distortion = np.random.normal(loc=12, scale=1)\n",
    "\n",
    "    def mapping(point):\n",
    "        x, y = point\n",
    "        dec = (distortion*(x-h))/h\n",
    "        return x, y+dec+5\n",
    "    return interpolation.geometric_transform(\n",
    "        image, mapping, (h, l), order=5, mode='nearest')\n",
    "\n",
    "def rotate(image, d):\n",
    "    \"\"\"Rotate the image by d/180 degrees.\"\"\"\n",
    "    center = 0.5*np.array(image.shape)\n",
    "    rot = np.array([[np.cos(d), np.sin(d)],[-np.sin(d), np.cos(d)]])\n",
    "    offset = (center-center.dot(rot)).dot(np.linalg.inv(rot))\n",
    "    return interpolation.affine_transform(\n",
    "        image,\n",
    "        rot,\n",
    "        order=2,\n",
    "        offset=-offset,\n",
    "        cval=0.0,\n",
    "        output=np.float32)\n",
    "\n",
    "def noise(image, n=100):\n",
    "    \"\"\"Add noise by randomly changing n pixels\"\"\"\n",
    "    indices = np.random.random(size=(n, 2))*28\n",
    "    image = image.copy()\n",
    "    for x, y in indices:\n",
    "        x, y = int(x), int(y)\n",
    "        image[x][y] = 0\n",
    "    return image\n",
    "\n",
    "def brightness(image, factor=0.8):\n",
    "    return image * factor\n",
    "\n",
    "def elastic_transform(image, alpha=36, sigma=5, random_state=None):\n",
    "    \"\"\"Elastic deformation of images as described in [Simard2003]_.\n",
    "    .. [Simard2003] Simard, Steinkraus and Platt, \"Best Practices for\n",
    "       Convolutional Neural Networks applied to Visual Document Analysis\", in\n",
    "       Proc. of the International Conference on Document Analysis and\n",
    "       Recognition, 2003.\n",
    "    \n",
    "    :param image: a 28x28 image\n",
    "    :param alpha: scale for filter\n",
    "    :param sigma: the standard deviation for the gaussian\n",
    "    :return: distorted 28x28 image\n",
    "    \"\"\"\n",
    "    assert len(image.shape) == 2\n",
    "\n",
    "    if random_state is None:\n",
    "        random_state = np.random.RandomState(None)\n",
    "\n",
    "    shape = image.shape\n",
    "\n",
    "    dx = gaussian_filter((random_state.rand(*shape) * 2 - 1), sigma, mode=\"constant\", cval=0) * alpha\n",
    "    dy = gaussian_filter((random_state.rand(*shape) * 2 - 1), sigma, mode=\"constant\", cval=0) * alpha\n",
    "\n",
    "    x, y = np.meshgrid(np.arange(shape[0]), np.arange(shape[1]), indexing='ij')\n",
    "    indices = np.reshape(x+dx, (-1, 1)), np.reshape(y+dy, (-1, 1))\n",
    "    \n",
    "    return map_coordinates(image, indices, order=1).reshape(shape)\n",
    "\n",
    "\n",
    "def draw_examples_with_perturbation(examples, f):\n",
    "    \"\"\"Draw examples with provided perturbation f\n",
    "    \n",
    "    :param examples: list of examples\n",
    "    :param f: transformation function with takes a 28x28 image\n",
    "    and returns a 28x28 image\n",
    "    \"\"\"\n",
    "    examples = [(e, n) for n, e in enumerate(examples)]\n",
    "    grid = AxesGrid(plt.figure(figsize=(8,15)), 141,  # similar to subplot(141)\n",
    "                        nrows_ncols=(len(examples), 2),\n",
    "                        axes_pad=0.05,\n",
    "                        label_mode=\"1\",\n",
    "                        )\n",
    "\n",
    "    for examplenum,num in examples:\n",
    "        image = X_train[examplenum].reshape(28,28)\n",
    "        im = grid[2*num].imshow(image)\n",
    "        im2 = grid[2*num+1].imshow(f(image))\n",
    "        \n",
    "def load_dataset(s=\"data\"):\n",
    "    mndata = MNIST('../%s/'%s)\n",
    "    X_train, labels_train = map(np.array, mndata.load_training())\n",
    "    X_test, labels_test = map(np.array, mndata.load_testing())\n",
    "    X_train = X_train/255.0\n",
    "    X_test = X_test/255.0\n",
    "    return (X_train, labels_train), (X_test, labels_test)"
   ]
  },
  {
   "cell_type": "code",
   "execution_count": 4,
   "metadata": {},
   "outputs": [],
   "source": [
    "(X_train, y_train), (X_test, y_test) = load_dataset()"
   ]
  },
  {
   "cell_type": "code",
   "execution_count": 10,
   "metadata": {},
   "outputs": [
    {
     "data": {
      "text/plain": [
       "(28, 28)"
      ]
     },
     "execution_count": 10,
     "metadata": {},
     "output_type": "execute_result"
    }
   ],
   "source": [
    "noise(X_train[0].reshape(28, 28)).shape"
   ]
  },
  {
   "cell_type": "code",
   "execution_count": 8,
   "metadata": {},
   "outputs": [
    {
     "data": {
      "text/plain": [
       "(1, 784)"
      ]
     },
     "execution_count": 8,
     "metadata": {},
     "output_type": "execute_result"
    }
   ],
   "source": []
  },
  {
   "cell_type": "code",
   "execution_count": null,
   "metadata": {},
   "outputs": [],
   "source": []
  }
 ],
 "metadata": {
  "kernelspec": {
   "display_name": "Python 3",
   "language": "python",
   "name": "python3"
  },
  "language_info": {
   "codemirror_mode": {
    "name": "ipython",
    "version": 3
   },
   "file_extension": ".py",
   "mimetype": "text/x-python",
   "name": "python",
   "nbconvert_exporter": "python",
   "pygments_lexer": "ipython3",
   "version": "3.7.3"
  }
 },
 "nbformat": 4,
 "nbformat_minor": 2
}

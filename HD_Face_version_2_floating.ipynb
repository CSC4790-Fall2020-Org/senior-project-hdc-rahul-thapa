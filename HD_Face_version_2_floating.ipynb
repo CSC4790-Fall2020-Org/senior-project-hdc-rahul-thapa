{
 "cells": [
  {
   "cell_type": "markdown",
   "metadata": {},
   "source": [
    "#### Image size (30, 32)\n",
    "\n",
    "- Person class gets the highest accuracy (training: 98%, testing: 95%). However, there is only 1 discrepent images at most.\n",
    "- With direction of face, the highest accuracy (training: 75%, testing: 77%). However, there are only 7 discrepent images at most.\n",
    "- With emotions as label, the highest accuracy (training: 32%, testing: 20%)."
   ]
  },
  {
   "cell_type": "code",
   "execution_count": 581,
   "metadata": {},
   "outputs": [
    {
     "data": {
      "text/plain": [
       "{'angry': 0, 'sad': 1, 'neutral': 2, 'happy': 3}"
      ]
     },
     "execution_count": 581,
     "metadata": {},
     "output_type": "execute_result"
    }
   ],
   "source": [
    "label_map"
   ]
  },
  {
   "cell_type": "code",
   "execution_count": 582,
   "metadata": {},
   "outputs": [],
   "source": [
    "import numpy as np\n",
    "from mnist import MNIST\n",
    "from sklearn.model_selection import train_test_split\n",
    "from sklearn.metrics.pairwise import cosine_similarity\n",
    "from sklearn.metrics import accuracy_score\n",
    "from PIL import Image\n",
    "from matplotlib import pyplot as plt\n",
    "from PIL import Image\n",
    "import os\n",
    "import seaborn as sns"
   ]
  },
  {
   "cell_type": "code",
   "execution_count": 583,
   "metadata": {},
   "outputs": [],
   "source": [
    "def read_pgm(pgmf):\n",
    "    \"\"\"Return a raster of integers from a PGM as a list of lists.\"\"\"\n",
    "    assert pgmf.readline() == b'P5\\n'\n",
    "    (width, height) = [int(i) for i in pgmf.readline().split()]\n",
    "    depth = int(pgmf.readline())\n",
    "    assert depth <= 255\n",
    "\n",
    "    raster = []\n",
    "    for y in range(height):\n",
    "        row = []\n",
    "        for y in range(width):\n",
    "            row.append(ord(pgmf.read(1)))\n",
    "        raster.append(row)\n",
    "    return raster\n",
    "\n",
    "def make_face_dataset(pix_size=\"2\"):\n",
    "    face = \"./data/faces/\"    \n",
    "    X = []\n",
    "    y = []\n",
    "    image_path = []\n",
    "    for p in os.listdir(face):\n",
    "        person = face + p\n",
    "        for img in os.listdir(person):\n",
    "            if (img.split(\".\")[1] == \"pgm\") and (img.split(\".\")[0][-1] == pix_size):\n",
    "                img_path = person + '/' + img\n",
    "                image_path.append(img_path)\n",
    "                f = open(img_path, 'rb')\n",
    "                im = read_pgm(f)\n",
    "                f.close()\n",
    "                im = np.array(im)\n",
    "                X.append(im)\n",
    "                y.append(img.split(\".\")[0].split(\"_\"))\n",
    "    image_path = np.array(image_path)\n",
    "    X = np.array(X)\n",
    "    y = np.array(y)\n",
    "    np.save(\"./data/face_separated/X_Face_\" + pix_size + \".npy\", X)\n",
    "    np.save(\"./data/face_separated/y_Face_\" + pix_size + \".npy\", y)\n",
    "    np.save(\"./data/face_separated/image_path_\" + pix_size + \".npy\", image_path)\n",
    "\n",
    "def get_label(y, idx=1):\n",
    "    y_temp = [item[idx] for item in y]\n",
    "    label = list(set(y_temp))\n",
    "    label_map = {label[i]: i for i in range(len(label))}\n",
    "    y = []\n",
    "    for item in y_temp:\n",
    "        y.append(label_map[item])\n",
    "    \n",
    "    return np.array(y), label_map"
   ]
  },
  {
   "cell_type": "code",
   "execution_count": 586,
   "metadata": {},
   "outputs": [],
   "source": [
    "# run this code only once\n",
    "pix_size = \"2\"\n",
    "make_face_dataset(pix_size)"
   ]
  },
  {
   "cell_type": "code",
   "execution_count": 587,
   "metadata": {},
   "outputs": [],
   "source": [
    "X_face = np.load(f\"./data/face_separated/X_face_{pix_size}.npy\")\n",
    "y_face = np.load(f\"./data/face_separated/y_face_{pix_size}.npy\")\n",
    "X_train, X_test, y_train, y_test = train_test_split(X_face, y_face, test_size=0.33, random_state=0)\n",
    "y_train, label_map = get_label(y_train, idx=2)\n",
    "y_test, _ = get_label(y_test, idx=2)"
   ]
  },
  {
   "cell_type": "code",
   "execution_count": 588,
   "metadata": {},
   "outputs": [
    {
     "data": {
      "text/plain": [
       "{'angry': 0, 'sad': 1, 'neutral': 2, 'happy': 3}"
      ]
     },
     "execution_count": 588,
     "metadata": {},
     "output_type": "execute_result"
    }
   ],
   "source": [
    "label_map"
   ]
  },
  {
   "cell_type": "code",
   "execution_count": 589,
   "metadata": {},
   "outputs": [],
   "source": [
    "D = 10000 # dimensions in random space\n",
    "w = X_train[0].shape[0]\n",
    "h = X_train[0].shape[1]\n",
    "NUM_SAMPLES = X_train.shape[0]"
   ]
  },
  {
   "cell_type": "code",
   "execution_count": 590,
   "metadata": {},
   "outputs": [],
   "source": [
    "X_train = np.array([img.flatten() for img in X_train])\n",
    "X_test = np.array([img.flatten() for img in X_test])"
   ]
  },
  {
   "cell_type": "code",
   "execution_count": 591,
   "metadata": {},
   "outputs": [
    {
     "data": {
      "text/plain": [
       "<matplotlib.axes._subplots.AxesSubplot at 0x28a03d063c8>"
      ]
     },
     "execution_count": 591,
     "metadata": {},
     "output_type": "execute_result"
    },
    {
     "data": {
      "image/png": "[encoded data removed]",
      "text/plain": [
       "<Figure size 432x288 with 1 Axes>"
      ]
     },
     "metadata": {
      "needs_background": "light"
     },
     "output_type": "display_data"
    }
   ],
   "source": [
    "sns.countplot(y_train)"
   ]
  },
  {
   "cell_type": "code",
   "execution_count": 592,
   "metadata": {},
   "outputs": [
    {
     "data": {
      "text/plain": [
       "<matplotlib.axes._subplots.AxesSubplot at 0x28a03feba90>"
      ]
     },
     "execution_count": 592,
     "metadata": {},
     "output_type": "execute_result"
    },
    {
     "data": {
      "image/png": "[encoded data removed]",
      "text/plain": [
       "<Figure size 432x288 with 1 Axes>"
      ]
     },
     "metadata": {
      "needs_background": "light"
     },
     "output_type": "display_data"
    }
   ],
   "source": [
    "sns.countplot(y_test)"
   ]
  },
  {
   "cell_type": "markdown",
   "metadata": {},
   "source": [
    "plt.imshow(X_train[2].reshape(28, 28), interpolation='nearest')"
   ]
  },
  {
   "cell_type": "markdown",
   "metadata": {},
   "source": [
    "img = Image.fromarray(X_train[2].reshape(28, 28))\n",
    "img.show()"
   ]
  },
  {
   "cell_type": "code",
   "execution_count": 593,
   "metadata": {
    "scrolled": true
   },
   "outputs": [
    {
     "name": "stdout",
     "output_type": "stream",
     "text": [
      "Generating random projection...\n",
      "(10000, 3840)\n",
      "Projecting images to higher dim space...\n",
      "(418, 3840)\n",
      "(10000, 3840)\n"
     ]
    }
   ],
   "source": [
    "# print(\"Generating random projection...\")\n",
    "# proj = np.random.rand(D, IMG_LEN * IMG_LEN)\n",
    "print(\"Generating random projection...\")\n",
    "seed = 30\n",
    "np.random.seed(seed)\n",
    "proj = np.random.rand(D, h * w)\n",
    "# proj[proj==0] = -1\n",
    "print(proj.shape)\n",
    "def get_scene(img, proj):\n",
    "    return np.dot(proj, img)\n",
    "\n",
    "# Transform the image vectors into the hypervectors\n",
    "def get_scenes(images, proj):\n",
    "    print(images.shape)\n",
    "    print(proj.shape)\n",
    "    return np.dot(images[:NUM_SAMPLES, :], proj.T)\n",
    "\n",
    "print(\"Projecting images to higher dim space...\")\n",
    "X_train = get_scenes(X_train, proj)"
   ]
  },
  {
   "cell_type": "code",
   "execution_count": 594,
   "metadata": {},
   "outputs": [],
   "source": [
    "digit_vectors = np.zeros((len(label_map), D))\n",
    "# num_count = {}\n",
    "for i in range(NUM_SAMPLES):\n",
    "#     num_count[y_train[i]] =  num_count.get(y_train[i], 0) + 1\n",
    "    digit_vectors[y_train[i]] += X_train[i]\n",
    "digit_vectors = np.array(digit_vectors)"
   ]
  },
  {
   "cell_type": "code",
   "execution_count": 595,
   "metadata": {},
   "outputs": [],
   "source": [
    "# digit_vectors[digit_vectors > 0] = 1\n",
    "# digit_vectors[digit_vectors <= 0] = -1"
   ]
  },
  {
   "cell_type": "markdown",
   "metadata": {},
   "source": [
    "for i in num_count:\n",
    "    digit_vectors[i] /= num_count[i] "
   ]
  },
  {
   "cell_type": "code",
   "execution_count": 596,
   "metadata": {},
   "outputs": [],
   "source": [
    "def classify(images, digit_vectors):\n",
    "    similarities = cosine_similarity(images, digit_vectors)\n",
    "    classifications = np.argmax(similarities, axis=1)\n",
    "    return classifications"
   ]
  },
  {
   "cell_type": "code",
   "execution_count": 597,
   "metadata": {},
   "outputs": [
    {
     "name": "stdout",
     "output_type": "stream",
     "text": [
      "Train accuracy:\n",
      "0.33253588516746413\n"
     ]
    }
   ],
   "source": [
    "print(\"Train accuracy:\")\n",
    "predictions = classify(X_train, digit_vectors)\n",
    "acc = accuracy_score(y_train[:X_train.shape[0]], predictions)\n",
    "print(acc)"
   ]
  },
  {
   "cell_type": "code",
   "execution_count": 598,
   "metadata": {},
   "outputs": [
    {
     "name": "stdout",
     "output_type": "stream",
     "text": [
      "Test accuracy:\n",
      "(206, 3840)\n",
      "(10000, 3840)\n",
      "0.19902912621359223\n"
     ]
    }
   ],
   "source": [
    "print(\"Test accuracy:\")\n",
    "X_test = get_scenes(X_test, proj)\n",
    "predictions = classify(X_test, digit_vectors)\n",
    "acc = accuracy_score(y_test[:X_test.shape[0]], predictions)\n",
    "print(acc)"
   ]
  },
  {
   "cell_type": "markdown",
   "metadata": {},
   "source": [
    "import pandas as pd\n",
    "df = pd.DataFrame({f'model_{seed}': predictions,\n",
    "                   'y': y_train})"
   ]
  },
  {
   "cell_type": "code",
   "execution_count": 525,
   "metadata": {},
   "outputs": [],
   "source": [
    "np.save(f'./temp/face_digit_vectors_seed_{seed}_version_2_floating.npy', digit_vectors)"
   ]
  },
  {
   "cell_type": "markdown",
   "metadata": {},
   "source": [
    "#### Make sure you sun from top until this point with multiple seeds to run code below this point"
   ]
  },
  {
   "cell_type": "code",
   "execution_count": 526,
   "metadata": {},
   "outputs": [],
   "source": [
    "model_30 = np.load(\"./temp/face_digit_vectors_seed_30_version_2_floating.npy\")\n",
    "model_40 = np.load(\"./temp/face_digit_vectors_seed_40_version_2_floating.npy\")\n",
    "model_50 = np.load(\"./temp/face_digit_vectors_seed_50_version_2_floating.npy\")"
   ]
  },
  {
   "cell_type": "markdown",
   "metadata": {},
   "source": [
    "### First, retraining on Adversarial inputs from Training set"
   ]
  },
  {
   "cell_type": "code",
   "execution_count": 527,
   "metadata": {},
   "outputs": [],
   "source": [
    "X_face = np.load(f\"./data/face_separated/X_face_{pix_size}.npy\")\n",
    "y_face = np.load(f\"./data/face_separated/y_face_{pix_size}.npy\")\n",
    "X_train, X_test, y_train, y_test = train_test_split(X_face, y_face, test_size=0.33, random_state=0)\n",
    "y_train, label_map = get_label(y_train, idx=1)\n",
    "y_test, _ = get_label(y_test, idx=1)\n",
    "X_train = np.array([img.flatten() for img in X_train])\n",
    "X_test = np.array([img.flatten() for img in X_test])"
   ]
  },
  {
   "cell_type": "code",
   "execution_count": 528,
   "metadata": {},
   "outputs": [
    {
     "name": "stdout",
     "output_type": "stream",
     "text": [
      "(206, 960)\n",
      "(10000, 960)\n",
      "here\n",
      "(206, 960)\n",
      "(10000, 960)\n",
      "here\n",
      "(206, 960)\n",
      "(10000, 960)\n",
      "here\n"
     ]
    }
   ],
   "source": [
    "import copy\n",
    "seeds = [30, 40, 50]\n",
    "models = [model_30, model_40, model_50]\n",
    "results = []\n",
    "\n",
    "for seed, model in zip(seeds, models):\n",
    "    np.random.seed(seed)\n",
    "    proj = np.random.rand(D, h * w)\n",
    "#     X_train_copy = copy.deepcopy(X_train)\n",
    "#     X_train_copy = get_scenes(X_train_copy, proj)\n",
    "    X_test_copy = copy.deepcopy(X_test)\n",
    "    X_test_copy = get_scenes(X_test_copy, proj)\n",
    "    predictions = classify(X_test_copy, model)\n",
    "    results.append(predictions)\n",
    "    print(\"here\")"
   ]
  },
  {
   "cell_type": "code",
   "execution_count": 529,
   "metadata": {},
   "outputs": [
    {
     "data": {
      "text/plain": [
       "206"
      ]
     },
     "execution_count": 529,
     "metadata": {},
     "output_type": "execute_result"
    }
   ],
   "source": [
    "len(results[0])"
   ]
  },
  {
   "cell_type": "code",
   "execution_count": 530,
   "metadata": {},
   "outputs": [],
   "source": [
    "import pandas as pd\n",
    "df = pd.DataFrame({'model_30': list(results[0]),\n",
    "                   'model_40': list(results[1]),\n",
    "                   'model_50': list(results[2]),\n",
    "                   'y': y_test})"
   ]
  },
  {
   "cell_type": "code",
   "execution_count": 531,
   "metadata": {},
   "outputs": [
    {
     "data": {
      "text/html": [
       "<div>\n",
       "<style scoped>\n",
       "    .dataframe tbody tr th:only-of-type {\n",
       "        vertical-align: middle;\n",
       "    }\n",
       "\n",
       "    .dataframe tbody tr th {\n",
       "        vertical-align: top;\n",
       "    }\n",
       "\n",
       "    .dataframe thead th {\n",
       "        text-align: right;\n",
       "    }\n",
       "</style>\n",
       "<table border=\"1\" class=\"dataframe\">\n",
       "  <thead>\n",
       "    <tr style=\"text-align: right;\">\n",
       "      <th></th>\n",
       "      <th>model_30</th>\n",
       "      <th>model_40</th>\n",
       "      <th>model_50</th>\n",
       "      <th>y</th>\n",
       "    </tr>\n",
       "  </thead>\n",
       "  <tbody>\n",
       "    <tr>\n",
       "      <th>0</th>\n",
       "      <td>0</td>\n",
       "      <td>0</td>\n",
       "      <td>0</td>\n",
       "      <td>3</td>\n",
       "    </tr>\n",
       "    <tr>\n",
       "      <th>1</th>\n",
       "      <td>3</td>\n",
       "      <td>3</td>\n",
       "      <td>3</td>\n",
       "      <td>2</td>\n",
       "    </tr>\n",
       "    <tr>\n",
       "      <th>2</th>\n",
       "      <td>2</td>\n",
       "      <td>2</td>\n",
       "      <td>2</td>\n",
       "      <td>2</td>\n",
       "    </tr>\n",
       "    <tr>\n",
       "      <th>3</th>\n",
       "      <td>0</td>\n",
       "      <td>0</td>\n",
       "      <td>0</td>\n",
       "      <td>0</td>\n",
       "    </tr>\n",
       "    <tr>\n",
       "      <th>4</th>\n",
       "      <td>2</td>\n",
       "      <td>2</td>\n",
       "      <td>2</td>\n",
       "      <td>2</td>\n",
       "    </tr>\n",
       "  </tbody>\n",
       "</table>\n",
       "</div>"
      ],
      "text/plain": [
       "   model_30  model_40  model_50  y\n",
       "0         0         0         0  3\n",
       "1         3         3         3  2\n",
       "2         2         2         2  2\n",
       "3         0         0         0  0\n",
       "4         2         2         2  2"
      ]
     },
     "execution_count": 531,
     "metadata": {},
     "output_type": "execute_result"
    }
   ],
   "source": [
    "df.head()"
   ]
  },
  {
   "cell_type": "code",
   "execution_count": 532,
   "metadata": {},
   "outputs": [],
   "source": [
    "df_discrepencies = df[(df[\"model_30\"] != df[\"model_40\"]) | (df[\"model_30\"] != df[\"model_50\"]) | (df[\"model_40\"] != df[\"model_50\"])]"
   ]
  },
  {
   "cell_type": "code",
   "execution_count": 533,
   "metadata": {},
   "outputs": [
    {
     "data": {
      "text/html": [
       "<div>\n",
       "<style scoped>\n",
       "    .dataframe tbody tr th:only-of-type {\n",
       "        vertical-align: middle;\n",
       "    }\n",
       "\n",
       "    .dataframe tbody tr th {\n",
       "        vertical-align: top;\n",
       "    }\n",
       "\n",
       "    .dataframe thead th {\n",
       "        text-align: right;\n",
       "    }\n",
       "</style>\n",
       "<table border=\"1\" class=\"dataframe\">\n",
       "  <thead>\n",
       "    <tr style=\"text-align: right;\">\n",
       "      <th></th>\n",
       "      <th>model_30</th>\n",
       "      <th>model_40</th>\n",
       "      <th>model_50</th>\n",
       "      <th>y</th>\n",
       "    </tr>\n",
       "  </thead>\n",
       "  <tbody>\n",
       "    <tr>\n",
       "      <th>11</th>\n",
       "      <td>0</td>\n",
       "      <td>1</td>\n",
       "      <td>0</td>\n",
       "      <td>1</td>\n",
       "    </tr>\n",
       "    <tr>\n",
       "      <th>14</th>\n",
       "      <td>0</td>\n",
       "      <td>1</td>\n",
       "      <td>0</td>\n",
       "      <td>0</td>\n",
       "    </tr>\n",
       "    <tr>\n",
       "      <th>25</th>\n",
       "      <td>0</td>\n",
       "      <td>3</td>\n",
       "      <td>3</td>\n",
       "      <td>2</td>\n",
       "    </tr>\n",
       "    <tr>\n",
       "      <th>35</th>\n",
       "      <td>0</td>\n",
       "      <td>0</td>\n",
       "      <td>3</td>\n",
       "      <td>3</td>\n",
       "    </tr>\n",
       "    <tr>\n",
       "      <th>53</th>\n",
       "      <td>0</td>\n",
       "      <td>2</td>\n",
       "      <td>2</td>\n",
       "      <td>2</td>\n",
       "    </tr>\n",
       "  </tbody>\n",
       "</table>\n",
       "</div>"
      ],
      "text/plain": [
       "    model_30  model_40  model_50  y\n",
       "11         0         1         0  1\n",
       "14         0         1         0  0\n",
       "25         0         3         3  2\n",
       "35         0         0         3  3\n",
       "53         0         2         2  2"
      ]
     },
     "execution_count": 533,
     "metadata": {},
     "output_type": "execute_result"
    }
   ],
   "source": [
    "df_discrepencies.head()"
   ]
  },
  {
   "cell_type": "code",
   "execution_count": 45,
   "metadata": {},
   "outputs": [
    {
     "data": {
      "text/plain": [
       "631"
      ]
     },
     "execution_count": 45,
     "metadata": {},
     "output_type": "execute_result"
    }
   ],
   "source": [
    "len(df_discrepencies)"
   ]
  },
  {
   "cell_type": "code",
   "execution_count": 190,
   "metadata": {},
   "outputs": [],
   "source": [
    "df_discrepencies.reset_index(inplace=True)"
   ]
  },
  {
   "cell_type": "code",
   "execution_count": 191,
   "metadata": {},
   "outputs": [
    {
     "data": {
      "text/html": [
       "<div>\n",
       "<style scoped>\n",
       "    .dataframe tbody tr th:only-of-type {\n",
       "        vertical-align: middle;\n",
       "    }\n",
       "\n",
       "    .dataframe tbody tr th {\n",
       "        vertical-align: top;\n",
       "    }\n",
       "\n",
       "    .dataframe thead th {\n",
       "        text-align: right;\n",
       "    }\n",
       "</style>\n",
       "<table border=\"1\" class=\"dataframe\">\n",
       "  <thead>\n",
       "    <tr style=\"text-align: right;\">\n",
       "      <th></th>\n",
       "      <th>index</th>\n",
       "      <th>model_30</th>\n",
       "      <th>model_40</th>\n",
       "      <th>model_50</th>\n",
       "      <th>y</th>\n",
       "    </tr>\n",
       "  </thead>\n",
       "  <tbody>\n",
       "    <tr>\n",
       "      <th>0</th>\n",
       "      <td>0</td>\n",
       "      <td>7</td>\n",
       "      <td>9</td>\n",
       "      <td>7</td>\n",
       "      <td>8</td>\n",
       "    </tr>\n",
       "    <tr>\n",
       "      <th>1</th>\n",
       "      <td>2</td>\n",
       "      <td>4</td>\n",
       "      <td>4</td>\n",
       "      <td>2</td>\n",
       "      <td>9</td>\n",
       "    </tr>\n",
       "    <tr>\n",
       "      <th>2</th>\n",
       "      <td>51</td>\n",
       "      <td>9</td>\n",
       "      <td>4</td>\n",
       "      <td>9</td>\n",
       "      <td>4</td>\n",
       "    </tr>\n",
       "    <tr>\n",
       "      <th>3</th>\n",
       "      <td>151</td>\n",
       "      <td>0</td>\n",
       "      <td>0</td>\n",
       "      <td>4</td>\n",
       "      <td>7</td>\n",
       "    </tr>\n",
       "    <tr>\n",
       "      <th>4</th>\n",
       "      <td>175</td>\n",
       "      <td>9</td>\n",
       "      <td>7</td>\n",
       "      <td>9</td>\n",
       "      <td>7</td>\n",
       "    </tr>\n",
       "  </tbody>\n",
       "</table>\n",
       "</div>"
      ],
      "text/plain": [
       "   index  model_30  model_40  model_50  y\n",
       "0      0         7         9         7  8\n",
       "1      2         4         4         2  9\n",
       "2     51         9         4         9  4\n",
       "3    151         0         0         4  7\n",
       "4    175         9         7         9  7"
      ]
     },
     "execution_count": 191,
     "metadata": {},
     "output_type": "execute_result"
    }
   ],
   "source": [
    "df_discrepencies.head()"
   ]
  },
  {
   "cell_type": "code",
   "execution_count": 192,
   "metadata": {},
   "outputs": [],
   "source": [
    "def get_scene(img, proj):\n",
    "    return np.dot(img, proj.T)"
   ]
  },
  {
   "cell_type": "code",
   "execution_count": 193,
   "metadata": {},
   "outputs": [],
   "source": [
    "epochs = 10\n",
    "\n",
    "for epoch in range(epochs):\n",
    "    for row in df_discrepencies.iterrows():\n",
    "        idx = row[1][\"index\"]\n",
    "        y_false = row[1][\"model_50\"]\n",
    "        y_true = row[1][\"y\"]\n",
    "        hv = get_scene(X_train[idx].reshape((1, -1)), proj)\n",
    "        model_50[y_false] -= hv[0]\n",
    "        model_50[y_true] += hv[0]"
   ]
  },
  {
   "cell_type": "code",
   "execution_count": 71,
   "metadata": {},
   "outputs": [
    {
     "name": "stdout",
     "output_type": "stream",
     "text": [
      "1 a 4\n",
      "2 b 5\n",
      "3 c 6\n"
     ]
    }
   ],
   "source": [
    "for i, j, k in zip([1, 2, 3], ['a', 'b', 'c'], [4, 5, 6]):\n",
    "    print(i, j, k)"
   ]
  },
  {
   "cell_type": "code",
   "execution_count": 194,
   "metadata": {},
   "outputs": [
    {
     "name": "stdout",
     "output_type": "stream",
     "text": [
      "Generating random projection...\n",
      "(10000, 784)\n",
      "Projecting images to higher dim space...\n",
      "(40200, 784)\n",
      "(10000, 784)\n"
     ]
    }
   ],
   "source": [
    "# print(\"Generating random projection...\")\n",
    "# proj = np.random.rand(D, IMG_LEN * IMG_LEN)\n",
    "print(\"Generating random projection...\")\n",
    "seed = 50\n",
    "np.random.seed(seed)\n",
    "proj = np.random.rand(D, IMG_LEN * IMG_LEN)\n",
    "# proj[proj==0] = -1\n",
    "print(proj.shape)\n",
    "def get_scene(img, proj):\n",
    "    return np.dot(img, proj.T)\n",
    "\n",
    "# Transform the image vectors into the hypervectors\n",
    "def get_scenes(images, proj):\n",
    "    print(images.shape)\n",
    "    print(proj.shape)\n",
    "    return np.dot(images[:NUM_SAMPLES, :], proj.T)\n",
    "\n",
    "print(\"Projecting images to higher dim space...\")\n",
    "X_train = get_scenes(X_train, proj)"
   ]
  },
  {
   "cell_type": "code",
   "execution_count": 195,
   "metadata": {},
   "outputs": [
    {
     "name": "stdout",
     "output_type": "stream",
     "text": [
      "Train accuracy:\n",
      "0.8420398009950248\n"
     ]
    }
   ],
   "source": [
    "print(\"Train accuracy:\")\n",
    "predictions = classify(X_train, model_50)\n",
    "acc = accuracy_score(y_train[:X_train.shape[0]], predictions)\n",
    "print(acc)"
   ]
  },
  {
   "cell_type": "code",
   "execution_count": 196,
   "metadata": {},
   "outputs": [
    {
     "name": "stdout",
     "output_type": "stream",
     "text": [
      "Test accuracy:\n",
      "(19800, 784)\n",
      "(10000, 784)\n",
      "0.8433838383838383\n"
     ]
    }
   ],
   "source": [
    "print(\"Test accuracy:\")\n",
    "X_test = get_scenes(X_test, proj)\n",
    "predictions = classify(X_test, model_50)\n",
    "acc = accuracy_score(y_test[:X_test.shape[0]], predictions)\n",
    "print(acc)"
   ]
  },
  {
   "cell_type": "code",
   "execution_count": 201,
   "metadata": {},
   "outputs": [],
   "source": [
    "test = df[(df[\"model_30\"] == df[\"model_40\"]) & (df[\"model_30\"] == df[\"model_50\"]) & (df[\"model_40\"] == df[\"model_50\"]) ]"
   ]
  },
  {
   "cell_type": "code",
   "execution_count": 208,
   "metadata": {},
   "outputs": [
    {
     "data": {
      "text/plain": [
       "0.8320398009950248"
      ]
     },
     "execution_count": 208,
     "metadata": {},
     "output_type": "execute_result"
    }
   ],
   "source": [
    "1 - len(test[test[\"model_50\"] != test[\"y\"]])/len(df)"
   ]
  },
  {
   "cell_type": "code",
   "execution_count": null,
   "metadata": {},
   "outputs": [],
   "source": [
    "np.save(f'./temp/digit_vectors_seed_{seed}_version_2_floating_retrained.npy', digit_vectors)"
   ]
  },
  {
   "cell_type": "code",
   "execution_count": null,
   "metadata": {},
   "outputs": [],
   "source": [
    "model_30 = np.load(\"./temp/digit_vectors_seed_30_version_2_floating_retrained.npy\")\n",
    "model_40 = np.load(\"./temp/digit_vectors_seed_40_version_2_floating_retrained.npy\")\n",
    "model_50 = np.load(\"./temp/digit_vectors_seed_50_version_2_floating_retrained.npy\")"
   ]
  },
  {
   "cell_type": "code",
   "execution_count": null,
   "metadata": {},
   "outputs": [],
   "source": [
    "X_train, labels_train, _, _ = load_dataset()\n",
    "# X_train, labels_train = shuffle(X_train, labels_train)\n",
    "X_train, X_test, y_train, y_test = train_test_split(X_train, labels_train, test_size=0.33, random_state=42)"
   ]
  },
  {
   "cell_type": "code",
   "execution_count": null,
   "metadata": {},
   "outputs": [],
   "source": [
    "import copy\n",
    "seeds = [30, 40, 50]\n",
    "models = [model_30, model_40, model_50]\n",
    "results = []\n",
    "\n",
    "for seed, model in zip(seeds, models):\n",
    "    np.random.seed(seed)\n",
    "    proj = np.random.rand(D, IMG_LEN * IMG_LEN)\n",
    "    X_train_copy = copy.deepcopy(X_train)\n",
    "    X_train_copy = get_scenes(X_train_copy, proj)\n",
    "    predictions = classify(X_train_copy, model)\n",
    "    results.append(predictions)\n",
    "    print(\"here\")"
   ]
  },
  {
   "cell_type": "code",
   "execution_count": null,
   "metadata": {},
   "outputs": [],
   "source": []
  },
  {
   "cell_type": "code",
   "execution_count": null,
   "metadata": {},
   "outputs": [],
   "source": []
  },
  {
   "cell_type": "code",
   "execution_count": 49,
   "metadata": {},
   "outputs": [],
   "source": [
    "X_train, labels_train, _, _ = load_dataset()\n",
    "# X_train, labels_train = shuffle(X_train, labels_train)\n",
    "X_train, X_test, y_train, y_test = train_test_split(X_train, labels_train, test_size=0.33, random_state=42)"
   ]
  },
  {
   "cell_type": "code",
   "execution_count": 23,
   "metadata": {},
   "outputs": [
    {
     "ename": "NameError",
     "evalue": "name 'get_scenes' is not defined",
     "output_type": "error",
     "traceback": [
      "\u001b[1;31m---------------------------------------------------------------------------\u001b[0m",
      "\u001b[1;31mNameError\u001b[0m                                 Traceback (most recent call last)",
      "\u001b[1;32m<ipython-input-23-63adb686d062>\u001b[0m in \u001b[0;36m<module>\u001b[1;34m\u001b[0m\n\u001b[0;32m      8\u001b[0m     \u001b[0mproj\u001b[0m \u001b[1;33m=\u001b[0m \u001b[0mnp\u001b[0m\u001b[1;33m.\u001b[0m\u001b[0mrandom\u001b[0m\u001b[1;33m.\u001b[0m\u001b[0mrand\u001b[0m\u001b[1;33m(\u001b[0m\u001b[0mD\u001b[0m\u001b[1;33m,\u001b[0m \u001b[0mIMG_LEN\u001b[0m \u001b[1;33m*\u001b[0m \u001b[0mIMG_LEN\u001b[0m\u001b[1;33m)\u001b[0m\u001b[1;33m\u001b[0m\u001b[1;33m\u001b[0m\u001b[0m\n\u001b[0;32m      9\u001b[0m     \u001b[0mX_test_copy\u001b[0m \u001b[1;33m=\u001b[0m \u001b[0mcopy\u001b[0m\u001b[1;33m.\u001b[0m\u001b[0mdeepcopy\u001b[0m\u001b[1;33m(\u001b[0m\u001b[0mX_test\u001b[0m\u001b[1;33m)\u001b[0m\u001b[1;33m\u001b[0m\u001b[1;33m\u001b[0m\u001b[0m\n\u001b[1;32m---> 10\u001b[1;33m     \u001b[0mX_test_copy\u001b[0m \u001b[1;33m=\u001b[0m \u001b[0mget_scenes\u001b[0m\u001b[1;33m(\u001b[0m\u001b[0mX_test_copy\u001b[0m\u001b[1;33m,\u001b[0m \u001b[0mproj\u001b[0m\u001b[1;33m)\u001b[0m\u001b[1;33m\u001b[0m\u001b[1;33m\u001b[0m\u001b[0m\n\u001b[0m\u001b[0;32m     11\u001b[0m     \u001b[0mpredictions\u001b[0m \u001b[1;33m=\u001b[0m \u001b[0mclassify\u001b[0m\u001b[1;33m(\u001b[0m\u001b[0mX_test_copy\u001b[0m\u001b[1;33m,\u001b[0m \u001b[0mmodel\u001b[0m\u001b[1;33m)\u001b[0m\u001b[1;33m\u001b[0m\u001b[1;33m\u001b[0m\u001b[0m\n\u001b[0;32m     12\u001b[0m     \u001b[0mresults\u001b[0m\u001b[1;33m.\u001b[0m\u001b[0mappend\u001b[0m\u001b[1;33m(\u001b[0m\u001b[0mpredictions\u001b[0m\u001b[1;33m)\u001b[0m\u001b[1;33m\u001b[0m\u001b[1;33m\u001b[0m\u001b[0m\n",
      "\u001b[1;31mNameError\u001b[0m: name 'get_scenes' is not defined"
     ]
    }
   ],
   "source": [
    "import copy\n",
    "seeds = [30, 40, 50]\n",
    "models = [model_30, model_40, model_50]\n",
    "results = []\n",
    "\n",
    "for seed, model in zip(seeds, models):\n",
    "    np.random.seed(seed)\n",
    "    proj = np.random.rand(D, IMG_LEN * IMG_LEN)\n",
    "    X_test_copy = copy.deepcopy(X_test)\n",
    "    X_test_copy = get_scenes(X_test_copy, proj)\n",
    "    predictions = classify(X_test_copy, model)\n",
    "    results.append(predictions)\n",
    "    print(\"here\")"
   ]
  },
  {
   "cell_type": "code",
   "execution_count": 49,
   "metadata": {},
   "outputs": [],
   "source": [
    "np.save(\"./temp/results_30_40_50_version_2.npy\", results)"
   ]
  },
  {
   "cell_type": "code",
   "execution_count": 4,
   "metadata": {},
   "outputs": [],
   "source": [
    "results = np.load(\"./temp/results_30_40_50_version_2.npy\")"
   ]
  },
  {
   "cell_type": "code",
   "execution_count": 5,
   "metadata": {},
   "outputs": [],
   "source": [
    "import pandas as pd\n",
    "df = pd.DataFrame({'model_30': list(results[0]),\n",
    "                   'model_40': list(results[1]),\n",
    "                   'model_50': list(results[2]),\n",
    "                   'y': y_test})"
   ]
  },
  {
   "cell_type": "code",
   "execution_count": 6,
   "metadata": {},
   "outputs": [
    {
     "data": {
      "text/html": [
       "<div>\n",
       "<style scoped>\n",
       "    .dataframe tbody tr th:only-of-type {\n",
       "        vertical-align: middle;\n",
       "    }\n",
       "\n",
       "    .dataframe tbody tr th {\n",
       "        vertical-align: top;\n",
       "    }\n",
       "\n",
       "    .dataframe thead th {\n",
       "        text-align: right;\n",
       "    }\n",
       "</style>\n",
       "<table border=\"1\" class=\"dataframe\">\n",
       "  <thead>\n",
       "    <tr style=\"text-align: right;\">\n",
       "      <th></th>\n",
       "      <th>model_30</th>\n",
       "      <th>model_40</th>\n",
       "      <th>model_50</th>\n",
       "      <th>y</th>\n",
       "    </tr>\n",
       "  </thead>\n",
       "  <tbody>\n",
       "    <tr>\n",
       "      <th>0</th>\n",
       "      <td>7</td>\n",
       "      <td>7</td>\n",
       "      <td>7</td>\n",
       "      <td>7</td>\n",
       "    </tr>\n",
       "    <tr>\n",
       "      <th>1</th>\n",
       "      <td>3</td>\n",
       "      <td>3</td>\n",
       "      <td>3</td>\n",
       "      <td>3</td>\n",
       "    </tr>\n",
       "    <tr>\n",
       "      <th>2</th>\n",
       "      <td>8</td>\n",
       "      <td>8</td>\n",
       "      <td>8</td>\n",
       "      <td>8</td>\n",
       "    </tr>\n",
       "    <tr>\n",
       "      <th>3</th>\n",
       "      <td>9</td>\n",
       "      <td>9</td>\n",
       "      <td>9</td>\n",
       "      <td>9</td>\n",
       "    </tr>\n",
       "    <tr>\n",
       "      <th>4</th>\n",
       "      <td>3</td>\n",
       "      <td>3</td>\n",
       "      <td>3</td>\n",
       "      <td>3</td>\n",
       "    </tr>\n",
       "  </tbody>\n",
       "</table>\n",
       "</div>"
      ],
      "text/plain": [
       "   model_30  model_40  model_50  y\n",
       "0         7         7         7  7\n",
       "1         3         3         3  3\n",
       "2         8         8         8  8\n",
       "3         9         9         9  9\n",
       "4         3         3         3  3"
      ]
     },
     "execution_count": 6,
     "metadata": {},
     "output_type": "execute_result"
    }
   ],
   "source": [
    "df.head()"
   ]
  },
  {
   "cell_type": "code",
   "execution_count": 7,
   "metadata": {},
   "outputs": [
    {
     "data": {
      "text/plain": [
       "19800"
      ]
     },
     "execution_count": 7,
     "metadata": {},
     "output_type": "execute_result"
    }
   ],
   "source": [
    "len(df)"
   ]
  },
  {
   "cell_type": "code",
   "execution_count": 8,
   "metadata": {},
   "outputs": [],
   "source": [
    "df_discrepencies = df[(df[\"model_30\"] != df[\"model_40\"]) | (df[\"model_30\"] != df[\"model_50\"]) | (df[\"model_40\"] != df[\"model_50\"])]"
   ]
  },
  {
   "cell_type": "code",
   "execution_count": 9,
   "metadata": {},
   "outputs": [],
   "source": [
    "df_discrepencies.to_excel(\"./temp/test_discrepencies_version_2_floating.xlsx\")"
   ]
  },
  {
   "cell_type": "markdown",
   "metadata": {},
   "source": [
    "df_discrepencies = df[(df[\"y\"] == df[\"model_30\"]) | (df[\"y\"] == df[\"model_40\"]) | (df[\"y\"] == df[\"model_50\"])]"
   ]
  },
  {
   "cell_type": "markdown",
   "metadata": {},
   "source": [
    "df_discrepencies = df_discrepencies[((df_discrepencies[\"y\"] + df_discrepencies[\"model_30\"]\n",
    "                                     + df_discrepencies[\"model_40\"] + df_discrepencies[\"model_50\"]) \n",
    "                                     != df_discrepencies[\"y\"] * 4)]"
   ]
  },
  {
   "cell_type": "markdown",
   "metadata": {},
   "source": [
    "df_discrepencies.head()"
   ]
  },
  {
   "cell_type": "markdown",
   "metadata": {},
   "source": [
    "sum(df_discrepencies[\"model_50\"] != df_discrepencies[\"y\"])"
   ]
  },
  {
   "cell_type": "markdown",
   "metadata": {},
   "source": [
    "len(df_discrepencies)"
   ]
  },
  {
   "cell_type": "markdown",
   "metadata": {},
   "source": [
    "df_discrepencies.to_excel(\"./temp/test_discrepencies_version_2.xlsx\")"
   ]
  },
  {
   "cell_type": "markdown",
   "metadata": {},
   "source": [
    "test_discrepencies = pd.read_excel(\"./temp/test_discrepencies_version_2.xlsx\")"
   ]
  },
  {
   "cell_type": "code",
   "execution_count": 10,
   "metadata": {},
   "outputs": [
    {
     "data": {
      "text/plain": [
       "631"
      ]
     },
     "execution_count": 10,
     "metadata": {},
     "output_type": "execute_result"
    }
   ],
   "source": [
    "len(df_discrepencies)"
   ]
  },
  {
   "cell_type": "code",
   "execution_count": 11,
   "metadata": {},
   "outputs": [
    {
     "data": {
      "text/html": [
       "<div>\n",
       "<style scoped>\n",
       "    .dataframe tbody tr th:only-of-type {\n",
       "        vertical-align: middle;\n",
       "    }\n",
       "\n",
       "    .dataframe tbody tr th {\n",
       "        vertical-align: top;\n",
       "    }\n",
       "\n",
       "    .dataframe thead th {\n",
       "        text-align: right;\n",
       "    }\n",
       "</style>\n",
       "<table border=\"1\" class=\"dataframe\">\n",
       "  <thead>\n",
       "    <tr style=\"text-align: right;\">\n",
       "      <th></th>\n",
       "      <th>model_30</th>\n",
       "      <th>model_40</th>\n",
       "      <th>model_50</th>\n",
       "      <th>y</th>\n",
       "    </tr>\n",
       "  </thead>\n",
       "  <tbody>\n",
       "    <tr>\n",
       "      <th>15</th>\n",
       "      <td>9</td>\n",
       "      <td>7</td>\n",
       "      <td>9</td>\n",
       "      <td>7</td>\n",
       "    </tr>\n",
       "    <tr>\n",
       "      <th>29</th>\n",
       "      <td>2</td>\n",
       "      <td>6</td>\n",
       "      <td>2</td>\n",
       "      <td>6</td>\n",
       "    </tr>\n",
       "    <tr>\n",
       "      <th>64</th>\n",
       "      <td>5</td>\n",
       "      <td>0</td>\n",
       "      <td>5</td>\n",
       "      <td>0</td>\n",
       "    </tr>\n",
       "    <tr>\n",
       "      <th>83</th>\n",
       "      <td>1</td>\n",
       "      <td>1</td>\n",
       "      <td>7</td>\n",
       "      <td>9</td>\n",
       "    </tr>\n",
       "    <tr>\n",
       "      <th>102</th>\n",
       "      <td>5</td>\n",
       "      <td>5</td>\n",
       "      <td>8</td>\n",
       "      <td>5</td>\n",
       "    </tr>\n",
       "  </tbody>\n",
       "</table>\n",
       "</div>"
      ],
      "text/plain": [
       "     model_30  model_40  model_50  y\n",
       "15          9         7         9  7\n",
       "29          2         6         2  6\n",
       "64          5         0         5  0\n",
       "83          1         1         7  9\n",
       "102         5         5         8  5"
      ]
     },
     "execution_count": 11,
     "metadata": {},
     "output_type": "execute_result"
    }
   ],
   "source": [
    "df_discrepencies.head()"
   ]
  },
  {
   "cell_type": "code",
   "execution_count": 60,
   "metadata": {},
   "outputs": [],
   "source": [
    "test_discrepencies.rename(columns={\"Unnamed: 0\": \"idx\"}, inplace=True)"
   ]
  },
  {
   "cell_type": "code",
   "execution_count": 61,
   "metadata": {},
   "outputs": [
    {
     "data": {
      "text/html": [
       "<div>\n",
       "<style scoped>\n",
       "    .dataframe tbody tr th:only-of-type {\n",
       "        vertical-align: middle;\n",
       "    }\n",
       "\n",
       "    .dataframe tbody tr th {\n",
       "        vertical-align: top;\n",
       "    }\n",
       "\n",
       "    .dataframe thead th {\n",
       "        text-align: right;\n",
       "    }\n",
       "</style>\n",
       "<table border=\"1\" class=\"dataframe\">\n",
       "  <thead>\n",
       "    <tr style=\"text-align: right;\">\n",
       "      <th></th>\n",
       "      <th>idx</th>\n",
       "      <th>model_30</th>\n",
       "      <th>model_40</th>\n",
       "      <th>model_50</th>\n",
       "      <th>y</th>\n",
       "    </tr>\n",
       "  </thead>\n",
       "  <tbody>\n",
       "    <tr>\n",
       "      <th>0</th>\n",
       "      <td>15</td>\n",
       "      <td>9</td>\n",
       "      <td>7</td>\n",
       "      <td>9</td>\n",
       "      <td>7</td>\n",
       "    </tr>\n",
       "    <tr>\n",
       "      <th>1</th>\n",
       "      <td>29</td>\n",
       "      <td>2</td>\n",
       "      <td>6</td>\n",
       "      <td>2</td>\n",
       "      <td>6</td>\n",
       "    </tr>\n",
       "    <tr>\n",
       "      <th>2</th>\n",
       "      <td>64</td>\n",
       "      <td>5</td>\n",
       "      <td>0</td>\n",
       "      <td>5</td>\n",
       "      <td>0</td>\n",
       "    </tr>\n",
       "    <tr>\n",
       "      <th>3</th>\n",
       "      <td>102</td>\n",
       "      <td>5</td>\n",
       "      <td>5</td>\n",
       "      <td>8</td>\n",
       "      <td>5</td>\n",
       "    </tr>\n",
       "    <tr>\n",
       "      <th>4</th>\n",
       "      <td>173</td>\n",
       "      <td>9</td>\n",
       "      <td>7</td>\n",
       "      <td>9</td>\n",
       "      <td>9</td>\n",
       "    </tr>\n",
       "  </tbody>\n",
       "</table>\n",
       "</div>"
      ],
      "text/plain": [
       "   idx  model_30  model_40  model_50  y\n",
       "0   15         9         7         9  7\n",
       "1   29         2         6         2  6\n",
       "2   64         5         0         5  0\n",
       "3  102         5         5         8  5\n",
       "4  173         9         7         9  9"
      ]
     },
     "execution_count": 61,
     "metadata": {},
     "output_type": "execute_result"
    }
   ],
   "source": [
    "test_discrepencies.head()"
   ]
  },
  {
   "cell_type": "code",
   "execution_count": 62,
   "metadata": {},
   "outputs": [],
   "source": [
    "def get_scene(img, proj):\n",
    "    return np.dot(img, proj.T)"
   ]
  },
  {
   "cell_type": "code",
   "execution_count": 63,
   "metadata": {},
   "outputs": [],
   "source": [
    "for row in test_discrepencies.iterrows():\n",
    "    idx = row[1][\"idx\"]\n",
    "    y_false = row[1][\"model_30\"]\n",
    "    y_true = row[1][\"y\"]\n",
    "    hv = get_scene(X_train[idx].reshape((1, -1)), proj)\n",
    "    model_30[y_false] -= hv[0]\n",
    "    model_30[y_true] += hv[0]"
   ]
  },
  {
   "cell_type": "code",
   "execution_count": 64,
   "metadata": {},
   "outputs": [
    {
     "name": "stdout",
     "output_type": "stream",
     "text": [
      "Generating random projection...\n",
      "(10000, 784)\n",
      "Projecting images to higher dim space...\n",
      "(40200, 784)\n",
      "(10000, 784)\n"
     ]
    }
   ],
   "source": [
    "# print(\"Generating random projection...\")\n",
    "# proj = np.random.rand(D, IMG_LEN * IMG_LEN)\n",
    "print(\"Generating random projection...\")\n",
    "seed = 30\n",
    "np.random.seed(seed)\n",
    "proj = np.random.rand(D, IMG_LEN * IMG_LEN)\n",
    "# proj[proj==0] = -1\n",
    "print(proj.shape)\n",
    "def get_scene(img, proj):\n",
    "    return np.dot(img, proj.T)\n",
    "\n",
    "# Transform the image vectors into the hypervectors\n",
    "def get_scenes(images, proj):\n",
    "    print(images.shape)\n",
    "    print(proj.shape)\n",
    "    return np.dot(images[:NUM_SAMPLES, :], proj.T)\n",
    "\n",
    "print(\"Projecting images to higher dim space...\")\n",
    "X_train = get_scenes(X_train, proj)"
   ]
  },
  {
   "cell_type": "code",
   "execution_count": 65,
   "metadata": {},
   "outputs": [
    {
     "name": "stdout",
     "output_type": "stream",
     "text": [
      "Train accuracy:\n",
      "0.8130597014925374\n"
     ]
    }
   ],
   "source": [
    "print(\"Train accuracy:\")\n",
    "predictions = classify(X_train, model_30)\n",
    "acc = accuracy_score(y_train[:X_train.shape[0]], predictions)\n",
    "print(acc)"
   ]
  },
  {
   "cell_type": "code",
   "execution_count": 66,
   "metadata": {},
   "outputs": [
    {
     "name": "stdout",
     "output_type": "stream",
     "text": [
      "Test accuracy:\n",
      "(19800, 784)\n",
      "(10000, 784)\n",
      "0.8077272727272727\n"
     ]
    }
   ],
   "source": [
    "print(\"Test accuracy:\")\n",
    "X_test = get_scenes(X_test, proj)\n",
    "predictions = classify(X_test, model_30)\n",
    "acc = accuracy_score(y_test[:X_test.shape[0]], predictions)\n",
    "print(acc)"
   ]
  },
  {
   "cell_type": "code",
   "execution_count": null,
   "metadata": {},
   "outputs": [],
   "source": []
  }
 ],
 "metadata": {
  "kernelspec": {
   "display_name": "Python 3",
   "language": "python",
   "name": "python3"
  },
  "language_info": {
   "codemirror_mode": {
    "name": "ipython",
    "version": 3
   },
   "file_extension": ".py",
   "mimetype": "text/x-python",
   "name": "python",
   "nbconvert_exporter": "python",
   "pygments_lexer": "ipython3",
   "version": "3.7.3"
  }
 },
 "nbformat": 4,
 "nbformat_minor": 2
}

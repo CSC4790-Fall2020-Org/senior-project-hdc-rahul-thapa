{
 "cells": [
  {
   "cell_type": "code",
   "execution_count": 1,
   "metadata": {},
   "outputs": [],
   "source": [
    "import numpy as np\n",
    "from mnist import MNIST\n",
    "from sklearn.model_selection import train_test_split\n",
    "from sklearn.metrics.pairwise import cosine_similarity\n",
    "from sklearn.metrics import accuracy_score\n",
    "from PIL import Image\n",
    "from matplotlib import pyplot as plt\n",
    "import copy"
   ]
  },
  {
   "cell_type": "code",
   "execution_count": 2,
   "metadata": {},
   "outputs": [],
   "source": [
    "model_30 = np.load(\"./temp/digit_vectors_seed_30.npy\")\n",
    "model_40 = np.load(\"./temp/digit_vectors_seed_40.npy\")\n",
    "model_50 = np.load(\"./temp/digit_vectors_seed_50.npy\")"
   ]
  },
  {
   "cell_type": "code",
   "execution_count": 3,
   "metadata": {},
   "outputs": [
    {
     "data": {
      "text/plain": [
       "(10, 10000)"
      ]
     },
     "execution_count": 3,
     "metadata": {},
     "output_type": "execute_result"
    }
   ],
   "source": [
    "model_30.shape"
   ]
  },
  {
   "cell_type": "code",
   "execution_count": 17,
   "metadata": {},
   "outputs": [],
   "source": [
    "def load_dataset():\n",
    "    mndata = MNIST('./data/')\n",
    "    X_train, labels_train = map(np.array, mndata.load_training())\n",
    "    X_test, _ = map(np.array, mndata.load_testing())\n",
    "    return X_train, labels_train, X_test"
   ]
  },
  {
   "cell_type": "code",
   "execution_count": 18,
   "metadata": {},
   "outputs": [],
   "source": [
    "def classify(images, digit_vectors):\n",
    "    similarities = cosine_similarity(images, digit_vectors)\n",
    "    classifications = np.argmax(similarities, axis=1)\n",
    "    return classifications"
   ]
  },
  {
   "cell_type": "code",
   "execution_count": 19,
   "metadata": {},
   "outputs": [],
   "source": [
    "X_train, labels_train, _ = load_dataset()\n",
    "# X_train, labels_train = shuffle(X_train, labels_train)\n",
    "X_train, X_test, y_train, y_test = train_test_split(X_train, labels_train, test_size=0.33, random_state=42)"
   ]
  },
  {
   "cell_type": "code",
   "execution_count": 20,
   "metadata": {},
   "outputs": [
    {
     "data": {
      "text/plain": [
       "(40200, 784)"
      ]
     },
     "execution_count": 20,
     "metadata": {},
     "output_type": "execute_result"
    }
   ],
   "source": [
    "X_train.shape"
   ]
  },
  {
   "cell_type": "code",
   "execution_count": 21,
   "metadata": {},
   "outputs": [
    {
     "data": {
      "text/plain": [
       "(19800, 784)"
      ]
     },
     "execution_count": 21,
     "metadata": {},
     "output_type": "execute_result"
    }
   ],
   "source": [
    "X_test.shape"
   ]
  },
  {
   "cell_type": "code",
   "execution_count": 22,
   "metadata": {},
   "outputs": [],
   "source": [
    "D = 10000 # dimensions in random space\n",
    "IMG_LEN = 28\n",
    "NUM_SAMPLES = X_train.shape[0]"
   ]
  },
  {
   "cell_type": "code",
   "execution_count": 23,
   "metadata": {},
   "outputs": [],
   "source": [
    "# Transform the image vectors into the hypervectors\n",
    "def get_scenes(images, proj):\n",
    "    return np.dot(images[:NUM_SAMPLES, :], proj.T)"
   ]
  },
  {
   "cell_type": "code",
   "execution_count": 24,
   "metadata": {},
   "outputs": [
    {
     "ename": "NameError",
     "evalue": "name 'proj' is not defined",
     "output_type": "error",
     "traceback": [
      "\u001b[1;31m---------------------------------------------------------------------------\u001b[0m",
      "\u001b[1;31mNameError\u001b[0m                                 Traceback (most recent call last)",
      "\u001b[1;32m<ipython-input-24-94fb3a9ba02a>\u001b[0m in \u001b[0;36m<module>\u001b[1;34m\u001b[0m\n\u001b[1;32m----> 1\u001b[1;33m \u001b[0mproj\u001b[0m\u001b[1;33m.\u001b[0m\u001b[0mshape\u001b[0m\u001b[1;33m\u001b[0m\u001b[1;33m\u001b[0m\u001b[0m\n\u001b[0m",
      "\u001b[1;31mNameError\u001b[0m: name 'proj' is not defined"
     ]
    }
   ],
   "source": [
    "proj.shape"
   ]
  },
  {
   "cell_type": "code",
   "execution_count": 56,
   "metadata": {},
   "outputs": [
    {
     "name": "stdout",
     "output_type": "stream",
     "text": [
      "here\n",
      "here\n",
      "here\n"
     ]
    }
   ],
   "source": [
    "seeds = [30, 40, 50]\n",
    "models = [model_30, model_40, model_50]\n",
    "results = []\n",
    "\n",
    "for seed, model in zip(seeds, models):\n",
    "    np.random.seed(seed)\n",
    "    proj = np.random.randint(2, size=(D, IMG_LEN * IMG_LEN))\n",
    "    proj[proj==0] = -1\n",
    "    X_test_copy = copy.deepcopy(X_test)\n",
    "    X_test_copy = get_scenes(X_test_copy, proj)\n",
    "    X_test_copy[X_test_copy > 0] = 1\n",
    "    X_test_copy[X_test_copy <= 0] = -1\n",
    "    predictions = classify(X_test_copy, model)\n",
    "    results.append(predictions)\n",
    "    print(\"here\")"
   ]
  },
  {
   "cell_type": "code",
   "execution_count": 7,
   "metadata": {},
   "outputs": [
    {
     "ename": "NameError",
     "evalue": "name 'results' is not defined",
     "output_type": "error",
     "traceback": [
      "\u001b[1;31m---------------------------------------------------------------------------\u001b[0m",
      "\u001b[1;31mNameError\u001b[0m                                 Traceback (most recent call last)",
      "\u001b[1;32m<ipython-input-7-85a2b8672bdf>\u001b[0m in \u001b[0;36m<module>\u001b[1;34m\u001b[0m\n\u001b[1;32m----> 1\u001b[1;33m \u001b[0mnp\u001b[0m\u001b[1;33m.\u001b[0m\u001b[0msave\u001b[0m\u001b[1;33m(\u001b[0m\u001b[1;34m\"results_30_40_50.npy\"\u001b[0m\u001b[1;33m,\u001b[0m \u001b[0mresults\u001b[0m\u001b[1;33m)\u001b[0m\u001b[1;33m\u001b[0m\u001b[1;33m\u001b[0m\u001b[0m\n\u001b[0m",
      "\u001b[1;31mNameError\u001b[0m: name 'results' is not defined"
     ]
    }
   ],
   "source": [
    "np.save(\"results_30_40_50.npy\", results)"
   ]
  },
  {
   "cell_type": "code",
   "execution_count": null,
   "metadata": {},
   "outputs": [],
   "source": [
    "results = np.load(\"./temp/results_30_40_50.npy\")"
   ]
  },
  {
   "cell_type": "code",
   "execution_count": null,
   "metadata": {},
   "outputs": [],
   "source": [
    "len(y_test)"
   ]
  },
  {
   "cell_type": "code",
   "execution_count": 25,
   "metadata": {},
   "outputs": [],
   "source": [
    "import pandas as pd\n",
    "df = pd.DataFrame({'model_30': list(results[0]),\n",
    "                   'model_40': list(results[1]),\n",
    "                   'model_50': list(results[2]),\n",
    "                   'y': y_test})"
   ]
  },
  {
   "cell_type": "code",
   "execution_count": 26,
   "metadata": {},
   "outputs": [],
   "source": [
    "df_discrepencies = df[(df[\"y\"] == df[\"model_30\"]) | (df[\"y\"] == df[\"model_40\"]) | (df[\"y\"] == df[\"model_50\"])]"
   ]
  },
  {
   "cell_type": "code",
   "execution_count": 27,
   "metadata": {},
   "outputs": [],
   "source": [
    "df_discrepencies = df_discrepencies[((df_discrepencies[\"y\"] + df_discrepencies[\"model_30\"]\n",
    "                                     + df_discrepencies[\"model_40\"] + df_discrepencies[\"model_50\"]) \n",
    "                                     != df_discrepencies[\"y\"] * 4)]"
   ]
  },
  {
   "cell_type": "code",
   "execution_count": 30,
   "metadata": {},
   "outputs": [],
   "source": [
    "df_discrepencies.to_excel(\"./temp/test_discrepencies.xlsx\")"
   ]
  },
  {
   "cell_type": "code",
   "execution_count": 69,
   "metadata": {},
   "outputs": [
    {
     "data": {
      "text/plain": [
       "(19800, 10000)"
      ]
     },
     "execution_count": 69,
     "metadata": {},
     "output_type": "execute_result"
    }
   ],
   "source": [
    "X_test.shape"
   ]
  },
  {
   "cell_type": "code",
   "execution_count": 53,
   "metadata": {},
   "outputs": [],
   "source": [
    "data_discrepencies = X_test[list(df_discrepencies.index)]"
   ]
  },
  {
   "cell_type": "code",
   "execution_count": 54,
   "metadata": {},
   "outputs": [
    {
     "data": {
      "text/plain": [
       "1054"
      ]
     },
     "execution_count": 54,
     "metadata": {},
     "output_type": "execute_result"
    }
   ],
   "source": [
    "len(data_discrepencies)"
   ]
  },
  {
   "cell_type": "code",
   "execution_count": 55,
   "metadata": {},
   "outputs": [
    {
     "data": {
      "text/plain": [
       "<matplotlib.image.AxesImage at 0x156228ed8d0>"
      ]
     },
     "execution_count": 55,
     "metadata": {},
     "output_type": "execute_result"
    },
    {
     "data": {
      "image/png": "[encoded data removed]",
      "text/plain": [
       "<Figure size 432x288 with 1 Axes>"
      ]
     },
     "metadata": {
      "needs_background": "light"
     },
     "output_type": "display_data"
    }
   ],
   "source": [
    "plt.imshow(data_discrepencies[100].reshape(28, 28), interpolation='nearest')"
   ]
  },
  {
   "cell_type": "code",
   "execution_count": 56,
   "metadata": {},
   "outputs": [],
   "source": [
    "feed_idx = list(df_discrepencies.index)\n",
    "feed_x_data = X_test[feed_idx]\n",
    "feed_y_data = y_test[feed_idx]"
   ]
  },
  {
   "cell_type": "code",
   "execution_count": 57,
   "metadata": {},
   "outputs": [],
   "source": [
    "aug_X_train = np.concatenate((X_train,feed_x_data))\n",
    "aug_y_train = np.concatenate((y_train,feed_y_data))"
   ]
  },
  {
   "cell_type": "code",
   "execution_count": 58,
   "metadata": {},
   "outputs": [],
   "source": [
    "D = 10000 # dimensions in random space\n",
    "IMG_LEN = 28\n",
    "NUM_SAMPLES = aug_X_train.shape[0]"
   ]
  },
  {
   "cell_type": "code",
   "execution_count": 59,
   "metadata": {},
   "outputs": [
    {
     "name": "stdout",
     "output_type": "stream",
     "text": [
      "Generating random projection...\n"
     ]
    }
   ],
   "source": [
    "print(\"Generating random projection...\")\n",
    "proj = np.random.randint(2, size=(D, IMG_LEN * IMG_LEN))\n",
    "proj[proj==0] = -1"
   ]
  },
  {
   "cell_type": "code",
   "execution_count": 60,
   "metadata": {},
   "outputs": [
    {
     "name": "stdout",
     "output_type": "stream",
     "text": [
      "Generating random projection...\n",
      "(10000, 784)\n",
      "Projecting images to higher dim space...\n",
      "(41254, 784)\n",
      "(10000, 784)\n"
     ]
    }
   ],
   "source": [
    "# print(\"Generating random projection...\")\n",
    "# proj = np.random.rand(D, IMG_LEN * IMG_LEN)\n",
    "print(\"Generating random projection...\")\n",
    "seed = 50\n",
    "np.random.seed(seed)\n",
    "proj = np.random.randint(2, size=(D, IMG_LEN * IMG_LEN))\n",
    "proj[proj==0] = -1\n",
    "print(proj.shape)\n",
    "def get_scene(img, proj):\n",
    "    return np.dot(proj, img)\n",
    "\n",
    "# Transform the image vectors into the hypervectors\n",
    "def get_scenes(images, proj):\n",
    "    print(images.shape)\n",
    "    print(proj.shape)\n",
    "    return np.dot(images[:NUM_SAMPLES, :], proj.T)\n",
    "\n",
    "print(\"Projecting images to higher dim space...\")\n",
    "aug_X_train = get_scenes(aug_X_train, proj)"
   ]
  },
  {
   "cell_type": "code",
   "execution_count": 61,
   "metadata": {},
   "outputs": [],
   "source": [
    "aug_X_train[aug_X_train > 0] = 1\n",
    "aug_X_train[aug_X_train <= 0] = -1"
   ]
  },
  {
   "cell_type": "code",
   "execution_count": 62,
   "metadata": {},
   "outputs": [],
   "source": [
    "digit_vectors = np.zeros((10, D))\n",
    "# num_count = {}\n",
    "for i in range(NUM_SAMPLES):\n",
    "#     num_count[y_train[i]] =  num_count.get(y_train[i], 0) + 1\n",
    "    digit_vectors[aug_y_train[i]] += aug_X_train[i]\n",
    "digit_vectors = np.array(digit_vectors)"
   ]
  },
  {
   "cell_type": "code",
   "execution_count": 63,
   "metadata": {},
   "outputs": [],
   "source": [
    "digit_vectors[digit_vectors > 0] = 1\n",
    "digit_vectors[digit_vectors <= 0] = -1"
   ]
  },
  {
   "cell_type": "code",
   "execution_count": 64,
   "metadata": {},
   "outputs": [],
   "source": [
    "np.save(f'digit_vectors_seed_aug_{seed}.npy', digit_vectors)"
   ]
  },
  {
   "cell_type": "code",
   "execution_count": 65,
   "metadata": {},
   "outputs": [],
   "source": [
    "def classify(images, digit_vectors):\n",
    "    similarities = cosine_similarity(images, digit_vectors)\n",
    "    classifications = np.argmax(similarities, axis=1)\n",
    "    return classifications"
   ]
  },
  {
   "cell_type": "code",
   "execution_count": 66,
   "metadata": {},
   "outputs": [
    {
     "name": "stdout",
     "output_type": "stream",
     "text": [
      "Augmented Train accuracy:\n",
      "0.8039220439230135\n"
     ]
    }
   ],
   "source": [
    "print(\"Augmented Train accuracy:\")\n",
    "predictions = classify(aug_X_train, digit_vectors)\n",
    "acc = accuracy_score(aug_y_train[:aug_X_train.shape[0]], predictions)\n",
    "print(acc)"
   ]
  },
  {
   "cell_type": "code",
   "execution_count": 67,
   "metadata": {},
   "outputs": [
    {
     "name": "stdout",
     "output_type": "stream",
     "text": [
      "Test accuracy:\n",
      "(19800, 784)\n",
      "(10000, 784)\n",
      "0.8077777777777778\n"
     ]
    }
   ],
   "source": [
    "print(\"Test accuracy:\")\n",
    "X_test = get_scenes(X_test, proj)\n",
    "X_test[X_test > 0] = 1\n",
    "X_test[X_test <= 0] = -1\n",
    "predictions = classify(X_test, digit_vectors)\n",
    "acc = accuracy_score(y_test[:X_test.shape[0]], predictions)\n",
    "print(acc)"
   ]
  },
  {
   "cell_type": "code",
   "execution_count": null,
   "metadata": {},
   "outputs": [],
   "source": []
  }
 ],
 "metadata": {
  "kernelspec": {
   "display_name": "Python 3",
   "language": "python",
   "name": "python3"
  },
  "language_info": {
   "codemirror_mode": {
    "name": "ipython",
    "version": 3
   },
   "file_extension": ".py",
   "mimetype": "text/x-python",
   "name": "python",
   "nbconvert_exporter": "python",
   "pygments_lexer": "ipython3",
   "version": "3.7.3"
  }
 },
 "nbformat": 4,
 "nbformat_minor": 2
}

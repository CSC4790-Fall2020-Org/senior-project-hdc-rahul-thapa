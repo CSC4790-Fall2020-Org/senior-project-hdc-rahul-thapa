{
 "cells": [
  {
   "cell_type": "code",
   "execution_count": 2,
   "metadata": {},
   "outputs": [],
   "source": [
    "import numpy as np\n",
    "from mnist import MNIST\n",
    "from sklearn.model_selection import train_test_split\n",
    "from sklearn.metrics.pairwise import cosine_similarity\n",
    "from sklearn.metrics import accuracy_score\n",
    "from PIL import Image\n",
    "from matplotlib import pyplot as plt\n",
    "import copy\n",
    "import pandas as pd\n",
    "import numpy as np"
   ]
  },
  {
   "cell_type": "code",
   "execution_count": 2,
   "metadata": {},
   "outputs": [],
   "source": [
    "model_30 = np.load(\"./temp/digit_vectors_seed_30.npy\")\n",
    "model_40 = np.load(\"./temp/digit_vectors_seed_40.npy\")\n",
    "model_50 = np.load(\"./temp/digit_vectors_seed_50.npy\")"
   ]
  },
  {
   "cell_type": "code",
   "execution_count": 3,
   "metadata": {},
   "outputs": [],
   "source": [
    "def shuffle(X, y):\n",
    "    permutation = np.arange(X.shape[0])\n",
    "    np.random.shuffle(permutation)\n",
    "    return X[permutation], y[permutation]\n",
    "\n",
    "def load_dataset():\n",
    "    mndata = MNIST('./data/')\n",
    "    X_train, labels_train = map(np.array, mndata.load_training())\n",
    "    X_test, _ = map(np.array, mndata.load_testing())\n",
    "    return X_train, labels_train, X_test"
   ]
  },
  {
   "cell_type": "code",
   "execution_count": 4,
   "metadata": {},
   "outputs": [],
   "source": [
    "X_train, labels_train, _ = load_dataset()\n",
    "# X_train, labels_train = shuffle(X_train, labels_train)\n",
    "X_train, X_test, y_train, y_test = train_test_split(X_train, labels_train, test_size=0.33, random_state=42)"
   ]
  },
  {
   "cell_type": "code",
   "execution_count": 5,
   "metadata": {},
   "outputs": [],
   "source": [
    "D = 10000 # dimensions in random space\n",
    "IMG_LEN = 28\n",
    "NUM_SAMPLES = X_train.shape[0]"
   ]
  },
  {
   "cell_type": "code",
   "execution_count": 61,
   "metadata": {},
   "outputs": [
    {
     "name": "stdout",
     "output_type": "stream",
     "text": [
      "Generating random projection...\n",
      "(10000, 784)\n"
     ]
    }
   ],
   "source": [
    "# print(\"Generating random projection...\")\n",
    "# proj = np.random.rand(D, IMG_LEN * IMG_LEN)\n",
    "print(\"Generating random projection...\")\n",
    "seed = 30\n",
    "np.random.seed(seed)\n",
    "proj = np.random.randint(2, size=(D, IMG_LEN * IMG_LEN))\n",
    "proj[proj==0] = -1\n",
    "print(proj.shape)\n",
    "def get_scene(img, proj):\n",
    "    return np.dot(img, proj.T)\n",
    "\n",
    "# Transform the image vectors into the hypervectors\n",
    "def get_scenes(images, proj):\n",
    "    print(images.shape)\n",
    "    print(proj.shape)\n",
    "    return np.dot(images[:NUM_SAMPLES, :], proj.T)\n",
    "\n",
    "# print(\"Projecting images to higher dim space...\")\n",
    "# X_train = get_scenes(X_train, proj)"
   ]
  },
  {
   "cell_type": "code",
   "execution_count": 62,
   "metadata": {},
   "outputs": [],
   "source": [
    "temp = get_scene(X_train[0].reshape((1, -1)), proj)\n",
    "temp[temp > 0] = 1\n",
    "temp[temp <= 0] = -1"
   ]
  },
  {
   "cell_type": "code",
   "execution_count": 63,
   "metadata": {},
   "outputs": [
    {
     "data": {
      "text/plain": [
       "(10000,)"
      ]
     },
     "execution_count": 63,
     "metadata": {},
     "output_type": "execute_result"
    }
   ],
   "source": [
    "temp[0].shape"
   ]
  },
  {
   "cell_type": "code",
   "execution_count": 64,
   "metadata": {},
   "outputs": [
    {
     "data": {
      "text/plain": [
       "(1, 784)"
      ]
     },
     "execution_count": 64,
     "metadata": {},
     "output_type": "execute_result"
    }
   ],
   "source": [
    "X_train[0].reshape((1, -1)).shape"
   ]
  },
  {
   "cell_type": "code",
   "execution_count": 65,
   "metadata": {},
   "outputs": [
    {
     "data": {
      "text/plain": [
       "(784, 10000)"
      ]
     },
     "execution_count": 65,
     "metadata": {},
     "output_type": "execute_result"
    }
   ],
   "source": [
    "proj.T.shape"
   ]
  },
  {
   "cell_type": "code",
   "execution_count": 6,
   "metadata": {},
   "outputs": [],
   "source": [
    "test_discrepencies = pd.read_excel(\"./temp/test_discrepencies.xlsx\")"
   ]
  },
  {
   "cell_type": "code",
   "execution_count": 7,
   "metadata": {},
   "outputs": [],
   "source": [
    "test_discrepencies.rename(columns={\"Unnamed: 0\": \"idx\"}, inplace=True)"
   ]
  },
  {
   "cell_type": "code",
   "execution_count": 10,
   "metadata": {},
   "outputs": [
    {
     "data": {
      "text/plain": [
       "1054"
      ]
     },
     "execution_count": 10,
     "metadata": {},
     "output_type": "execute_result"
    }
   ],
   "source": [
    "len(test_discrepencies)"
   ]
  },
  {
   "cell_type": "code",
   "execution_count": 9,
   "metadata": {},
   "outputs": [],
   "source": [
    "test_dis_model_30 = test_discrepencies[test_discrepencies[\"model_30\"] != test_discrepencies[\"y\"]]"
   ]
  },
  {
   "cell_type": "code",
   "execution_count": 40,
   "metadata": {},
   "outputs": [],
   "source": [
    "for row in test_dis_model_30.iterrows():\n",
    "    idx = row[1][\"idx\"]\n",
    "    y_false = row[1][\"model_30\"]\n",
    "    y_true = row[1][\"y\"]\n",
    "    hv = get_scene(X_train[idx].reshape((1, -1)), proj)\n",
    "    hv[hv > 0] = 1\n",
    "    hv[hv <= 0] = -1\n",
    "    model_30[y_false] -= hv[0]\n",
    "    model_30[y_true] += hv[0]\n",
    "    model_30[model_30 > 0] = 1\n",
    "    model_30[model_30 <= 0] = -1"
   ]
  },
  {
   "cell_type": "code",
   "execution_count": 41,
   "metadata": {},
   "outputs": [],
   "source": [
    "def classify(images, digit_vectors):\n",
    "    similarities = cosine_similarity(images, digit_vectors)\n",
    "    classifications = np.argmax(similarities, axis=1)\n",
    "    return classifications"
   ]
  },
  {
   "cell_type": "code",
   "execution_count": 42,
   "metadata": {},
   "outputs": [
    {
     "name": "stdout",
     "output_type": "stream",
     "text": [
      "Generating random projection...\n",
      "(10000, 784)\n",
      "Projecting images to higher dim space...\n",
      "(40200, 784)\n",
      "(10000, 784)\n"
     ]
    }
   ],
   "source": [
    "# print(\"Generating random projection...\")\n",
    "# proj = np.random.rand(D, IMG_LEN * IMG_LEN)\n",
    "print(\"Generating random projection...\")\n",
    "seed = 50\n",
    "np.random.seed(seed)\n",
    "proj = np.random.randint(2, size=(D, IMG_LEN * IMG_LEN))\n",
    "proj[proj==0] = -1\n",
    "print(proj.shape)\n",
    "def get_scene(img, proj):\n",
    "    return np.dot(proj, img)\n",
    "\n",
    "# Transform the image vectors into the hypervectors\n",
    "def get_scenes(images, proj):\n",
    "    print(images.shape)\n",
    "    print(proj.shape)\n",
    "    return np.dot(images[:NUM_SAMPLES, :], proj.T)\n",
    "\n",
    "print(\"Projecting images to higher dim space...\")\n",
    "X_train = get_scenes(X_train, proj)"
   ]
  },
  {
   "cell_type": "code",
   "execution_count": 43,
   "metadata": {},
   "outputs": [],
   "source": [
    "X_train[X_train > 0] = 1\n",
    "X_train[X_train <= 0] = -1"
   ]
  },
  {
   "cell_type": "code",
   "execution_count": 44,
   "metadata": {
    "scrolled": true
   },
   "outputs": [
    {
     "name": "stdout",
     "output_type": "stream",
     "text": [
      "Train accuracy:\n",
      "0.09893034825870647\n"
     ]
    }
   ],
   "source": [
    "print(\"Train accuracy:\")\n",
    "predictions = classify(X_train, model_30)\n",
    "acc = accuracy_score(y_train[:X_train.shape[0]], predictions)\n",
    "print(acc)"
   ]
  },
  {
   "cell_type": "code",
   "execution_count": 45,
   "metadata": {},
   "outputs": [
    {
     "data": {
      "text/plain": [
       "(40200, 10000)"
      ]
     },
     "execution_count": 45,
     "metadata": {},
     "output_type": "execute_result"
    }
   ],
   "source": [
    "X_train.shape"
   ]
  },
  {
   "cell_type": "code",
   "execution_count": 46,
   "metadata": {},
   "outputs": [
    {
     "data": {
      "text/plain": [
       "(10, 10000)"
      ]
     },
     "execution_count": 46,
     "metadata": {},
     "output_type": "execute_result"
    }
   ],
   "source": [
    "model_30.shape"
   ]
  },
  {
   "cell_type": "code",
   "execution_count": 3,
   "metadata": {},
   "outputs": [],
   "source": [
    "model_30 = np.load(\"./temp/digit_vectors_seed_30.npy\")\n",
    "model_40 = np.load(\"./temp/digit_vectors_seed_40.npy\")\n",
    "model_50 = np.load(\"./temp/digit_vectors_seed_50.npy\")"
   ]
  },
  {
   "cell_type": "code",
   "execution_count": 4,
   "metadata": {},
   "outputs": [
    {
     "ename": "NameError",
     "evalue": "name 'load_dataset' is not defined",
     "output_type": "error",
     "traceback": [
      "\u001b[1;31m---------------------------------------------------------------------------\u001b[0m",
      "\u001b[1;31mNameError\u001b[0m                                 Traceback (most recent call last)",
      "\u001b[1;32m<ipython-input-4-381184134ba5>\u001b[0m in \u001b[0;36m<module>\u001b[1;34m\u001b[0m\n\u001b[1;32m----> 1\u001b[1;33m \u001b[0mX_train\u001b[0m\u001b[1;33m,\u001b[0m \u001b[0mlabels_train\u001b[0m\u001b[1;33m,\u001b[0m \u001b[0m_\u001b[0m \u001b[1;33m=\u001b[0m \u001b[0mload_dataset\u001b[0m\u001b[1;33m(\u001b[0m\u001b[1;33m)\u001b[0m\u001b[1;33m\u001b[0m\u001b[1;33m\u001b[0m\u001b[0m\n\u001b[0m\u001b[0;32m      2\u001b[0m \u001b[1;31m# X_train, labels_train = shuffle(X_train, labels_train)\u001b[0m\u001b[1;33m\u001b[0m\u001b[1;33m\u001b[0m\u001b[1;33m\u001b[0m\u001b[0m\n\u001b[0;32m      3\u001b[0m \u001b[0mX_train\u001b[0m\u001b[1;33m,\u001b[0m \u001b[0mX_test\u001b[0m\u001b[1;33m,\u001b[0m \u001b[0my_train\u001b[0m\u001b[1;33m,\u001b[0m \u001b[0my_test\u001b[0m \u001b[1;33m=\u001b[0m \u001b[0mtrain_test_split\u001b[0m\u001b[1;33m(\u001b[0m\u001b[0mX_train\u001b[0m\u001b[1;33m,\u001b[0m \u001b[0mlabels_train\u001b[0m\u001b[1;33m,\u001b[0m \u001b[0mtest_size\u001b[0m\u001b[1;33m=\u001b[0m\u001b[1;36m0.33\u001b[0m\u001b[1;33m,\u001b[0m \u001b[0mrandom_state\u001b[0m\u001b[1;33m=\u001b[0m\u001b[1;36m42\u001b[0m\u001b[1;33m)\u001b[0m\u001b[1;33m\u001b[0m\u001b[1;33m\u001b[0m\u001b[0m\n",
      "\u001b[1;31mNameError\u001b[0m: name 'load_dataset' is not defined"
     ]
    }
   ],
   "source": [
    "X_train, labels_train, _ = load_dataset()\n",
    "# X_train, labels_train = shuffle(X_train, labels_train)\n",
    "X_train, X_test, y_train, y_test = train_test_split(X_train, labels_train, test_size=0.33, random_state=42)"
   ]
  },
  {
   "cell_type": "code",
   "execution_count": null,
   "metadata": {},
   "outputs": [],
   "source": []
  }
 ],
 "metadata": {
  "kernelspec": {
   "display_name": "Python 3",
   "language": "python",
   "name": "python3"
  },
  "language_info": {
   "codemirror_mode": {
    "name": "ipython",
    "version": 3
   },
   "file_extension": ".py",
   "mimetype": "text/x-python",
   "name": "python",
   "nbconvert_exporter": "python",
   "pygments_lexer": "ipython3",
   "version": "3.7.3"
  }
 },
 "nbformat": 4,
 "nbformat_minor": 2
}
